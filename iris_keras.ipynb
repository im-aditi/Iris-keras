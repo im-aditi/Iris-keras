{
 "cells": [
  {
   "cell_type": "code",
   "execution_count": 1,
   "metadata": {},
   "outputs": [],
   "source": [
    "from tensorflow import keras"
   ]
  },
  {
   "cell_type": "code",
   "execution_count": 2,
   "metadata": {},
   "outputs": [],
   "source": [
    "from sklearn.datasets import load_iris"
   ]
  },
  {
   "cell_type": "code",
   "execution_count": 3,
   "metadata": {},
   "outputs": [],
   "source": [
    "from tensorflow.keras.models import Sequential"
   ]
  },
  {
   "cell_type": "code",
   "execution_count": 4,
   "metadata": {},
   "outputs": [],
   "source": [
    "from tensorflow.keras.layers import Dense, Dropout\n",
    "from tensorflow.keras.optimizers import RMSprop"
   ]
  },
  {
   "cell_type": "code",
   "execution_count": 5,
   "metadata": {},
   "outputs": [],
   "source": [
    "iris=load_iris()\n",
    "data = iris.data\n",
    "target = iris.target"
   ]
  },
  {
   "cell_type": "code",
   "execution_count": 6,
   "metadata": {},
   "outputs": [
    {
     "name": "stdout",
     "output_type": "stream",
     "text": [
      "(150, 4)\n",
      "(150,)\n"
     ]
    }
   ],
   "source": [
    "print(data.shape, target.shape,sep=\"\\n\")"
   ]
  },
  {
   "cell_type": "code",
   "execution_count": 7,
   "metadata": {},
   "outputs": [],
   "source": [
    "data=data.astype('float32')"
   ]
  },
  {
   "cell_type": "code",
   "execution_count": 8,
   "metadata": {},
   "outputs": [],
   "source": [
    "target=keras.utils.to_categorical(target,3)"
   ]
  },
  {
   "cell_type": "code",
   "execution_count": 9,
   "metadata": {},
   "outputs": [],
   "source": [
    "from sklearn.model_selection import train_test_split\n",
    "x_train, x_test, y_train, y_test = train_test_split(data, target, test_size=0.2)"
   ]
  },
  {
   "cell_type": "code",
   "execution_count": 10,
   "metadata": {},
   "outputs": [],
   "source": [
    "model = Sequential()"
   ]
  },
  {
   "cell_type": "code",
   "execution_count": 11,
   "metadata": {},
   "outputs": [
    {
     "name": "stdout",
     "output_type": "stream",
     "text": [
      "WARNING:tensorflow:From C:\\ProgramData\\Anaconda3\\lib\\site-packages\\tensorflow\\python\\ops\\resource_variable_ops.py:435: colocate_with (from tensorflow.python.framework.ops) is deprecated and will be removed in a future version.\n",
      "Instructions for updating:\n",
      "Colocations handled automatically by placer.\n",
      "WARNING:tensorflow:From C:\\ProgramData\\Anaconda3\\lib\\site-packages\\tensorflow\\python\\keras\\layers\\core.py:143: calling dropout (from tensorflow.python.ops.nn_ops) with keep_prob is deprecated and will be removed in a future version.\n",
      "Instructions for updating:\n",
      "Please use `rate` instead of `keep_prob`. Rate should be set to `rate = 1 - keep_prob`.\n"
     ]
    }
   ],
   "source": [
    "model.add(Dense(512,activation=\"relu\",input_shape=(4,)))\n",
    "model.add(Dense(64,activation=\"tanh\"))\n",
    "model.add(Dropout(0.2))\n",
    "model.add(Dense(16,activation=\"relu\"))\n",
    "model.add(Dense(3,activation=\"softmax\"))"
   ]
  },
  {
   "cell_type": "code",
   "execution_count": 12,
   "metadata": {},
   "outputs": [],
   "source": [
    "model.compile(loss=\"categorical_crossentropy\",optimizer=RMSprop(),metrics=['accuracy'])"
   ]
  },
  {
   "cell_type": "code",
   "execution_count": 13,
   "metadata": {},
   "outputs": [
    {
     "name": "stdout",
     "output_type": "stream",
     "text": [
      "Train on 120 samples, validate on 30 samples\n",
      "WARNING:tensorflow:From C:\\ProgramData\\Anaconda3\\lib\\site-packages\\tensorflow\\python\\ops\\math_ops.py:3066: to_int32 (from tensorflow.python.ops.math_ops) is deprecated and will be removed in a future version.\n",
      "Instructions for updating:\n",
      "Use tf.cast instead.\n",
      "Epoch 1/10\n",
      "120/120 [==============================] - 1s 11ms/sample - loss: 0.9132 - acc: 0.6250 - val_loss: 0.5782 - val_acc: 0.9667\n",
      "Epoch 2/10\n",
      "120/120 [==============================] - 0s 404us/sample - loss: 0.6030 - acc: 0.6917 - val_loss: 0.4362 - val_acc: 0.9667\n",
      "Epoch 3/10\n",
      "120/120 [==============================] - 0s 459us/sample - loss: 0.4446 - acc: 0.7833 - val_loss: 0.5036 - val_acc: 0.6667\n",
      "Epoch 4/10\n",
      "120/120 [==============================] - 0s 380us/sample - loss: 0.4157 - acc: 0.8167 - val_loss: 0.4372 - val_acc: 0.7333\n",
      "Epoch 5/10\n",
      "120/120 [==============================] - 0s 389us/sample - loss: 0.3770 - acc: 0.8583 - val_loss: 0.2908 - val_acc: 0.8333\n",
      "Epoch 6/10\n",
      "120/120 [==============================] - 0s 387us/sample - loss: 0.2893 - acc: 0.8917 - val_loss: 0.1760 - val_acc: 0.9667\n",
      "Epoch 7/10\n",
      "120/120 [==============================] - 0s 379us/sample - loss: 0.2470 - acc: 0.9333 - val_loss: 0.1401 - val_acc: 1.0000\n",
      "Epoch 8/10\n",
      "120/120 [==============================] - 0s 407us/sample - loss: 0.1945 - acc: 0.9167 - val_loss: 0.1924 - val_acc: 0.9333\n",
      "Epoch 9/10\n",
      "120/120 [==============================] - 0s 445us/sample - loss: 0.2229 - acc: 0.9000 - val_loss: 0.1857 - val_acc: 0.9333\n",
      "Epoch 10/10\n",
      "120/120 [==============================] - 0s 379us/sample - loss: 0.1479 - acc: 0.9583 - val_loss: 0.0972 - val_acc: 0.9667\n"
     ]
    }
   ],
   "source": [
    "h=model.fit(x_train,y_train,batch_size=10,epochs=10, validation_data=(x_test,y_test))"
   ]
  },
  {
   "cell_type": "code",
   "execution_count": null,
   "metadata": {},
   "outputs": [],
   "source": []
  }
 ],
 "metadata": {
  "kernelspec": {
   "display_name": "Python 3",
   "language": "python",
   "name": "python3"
  },
  "language_info": {
   "codemirror_mode": {
    "name": "ipython",
    "version": 3
   },
   "file_extension": ".py",
   "mimetype": "text/x-python",
   "name": "python",
   "nbconvert_exporter": "python",
   "pygments_lexer": "ipython3",
   "version": "3.7.3"
  }
 },
 "nbformat": 4,
 "nbformat_minor": 2
}
